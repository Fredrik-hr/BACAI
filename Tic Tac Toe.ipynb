{
 "cells": [
  {
   "cell_type": "code",
   "execution_count": 3,
   "id": "5a88b6bd-8792-4202-9566-70e1570bfbb7",
   "metadata": {},
   "outputs": [
    {
     "name": "stdout",
     "output_type": "stream",
     "text": [
      " | | \n",
      "-+-+-\n",
      " | | \n",
      "-+-+-\n",
      " | | \n"
     ]
    },
    {
     "name": "stdin",
     "output_type": "stream",
     "text": [
      "player X Enter a number 1-9:  1\n"
     ]
    },
    {
     "name": "stdout",
     "output_type": "stream",
     "text": [
      "X| | \n",
      "-+-+-\n",
      " | | \n",
      "-+-+-\n",
      " | | \n"
     ]
    },
    {
     "name": "stdin",
     "output_type": "stream",
     "text": [
      "player O Enter a number 1-9:  1\n"
     ]
    },
    {
     "name": "stdout",
     "output_type": "stream",
     "text": [
      "That spot is not available.\n",
      "X| | \n",
      "-+-+-\n",
      " | | \n",
      "-+-+-\n",
      " | | \n"
     ]
    },
    {
     "name": "stdin",
     "output_type": "stream",
     "text": [
      "player O Enter a number 1-9:  2\n"
     ]
    },
    {
     "name": "stdout",
     "output_type": "stream",
     "text": [
      "X|O| \n",
      "-+-+-\n",
      " | | \n",
      "-+-+-\n",
      " | | \n"
     ]
    },
    {
     "name": "stdin",
     "output_type": "stream",
     "text": [
      "player X Enter a number 1-9:  3\n"
     ]
    },
    {
     "name": "stdout",
     "output_type": "stream",
     "text": [
      "X|O|X\n",
      "-+-+-\n",
      " | | \n",
      "-+-+-\n",
      " | | \n"
     ]
    },
    {
     "name": "stdin",
     "output_type": "stream",
     "text": [
      "player O Enter a number 1-9:  4\n"
     ]
    },
    {
     "name": "stdout",
     "output_type": "stream",
     "text": [
      "X|O|X\n",
      "-+-+-\n",
      "O| | \n",
      "-+-+-\n",
      " | | \n"
     ]
    },
    {
     "name": "stdin",
     "output_type": "stream",
     "text": [
      "player X Enter a number 1-9:  5\n"
     ]
    },
    {
     "name": "stdout",
     "output_type": "stream",
     "text": [
      "X|O|X\n",
      "-+-+-\n",
      "O|X| \n",
      "-+-+-\n",
      " | | \n"
     ]
    },
    {
     "name": "stdin",
     "output_type": "stream",
     "text": [
      "player O Enter a number 1-9:  6\n"
     ]
    },
    {
     "name": "stdout",
     "output_type": "stream",
     "text": [
      "X|O|X\n",
      "-+-+-\n",
      "O|X|O\n",
      "-+-+-\n",
      " | | \n"
     ]
    },
    {
     "name": "stdin",
     "output_type": "stream",
     "text": [
      "player X Enter a number 1-9:  7\n"
     ]
    },
    {
     "name": "stdout",
     "output_type": "stream",
     "text": [
      "X|O|X\n",
      "-+-+-\n",
      "O|X|O\n",
      "-+-+-\n",
      "X| | \n",
      "The winner is X\n"
     ]
    }
   ],
   "source": [
    "import random\n",
    "\n",
    "board = [\" \", \" \", \" \",\n",
    "         \" \", \" \", \" \",\n",
    "         \" \", \" \", \" \"]   #can also have it in one line \n",
    "\n",
    "currentPlayer = \"X\"   #starting player \n",
    "winner = None\n",
    "gameRunning = True \n",
    "\n",
    "#printing the game board\n",
    "def printBoard(board):\n",
    "    print(board[0] + \"|\" + board[1] + \"|\" + board[2])    \n",
    "    print(\"-+-+-\")\n",
    "    print(board[3] + \"|\" + board[4] + \"|\" + board[5])\n",
    "    print(\"-+-+-\")\n",
    "    print(board[6] + \"|\" + board[7] + \"|\" + board[8])\n",
    "\n",
    "\n",
    "#take player input\n",
    "def playerInput(board):\n",
    "    try:\n",
    "        player_choice = int(input(f\"player {currentPlayer} Enter a number 1-9: \"))\n",
    "        if player_choice >= 1 and player_choice <= 9 and board[player_choice-1] == \" \":   #here it will check if the player_choice is possible or not\n",
    "            board[player_choice-1] = currentPlayer                                        #here it will place the choice \n",
    "            return True\n",
    "        else:\n",
    "            print(\"That spot is not available.\")\n",
    "            return False\n",
    "    except ValueError:\n",
    "        print(\"Invalid input. Please enter numbers only.\")\n",
    "        return False\n",
    "    except Exception as e:\n",
    "        print(f\"An error occurred: {str(e)}\")\n",
    "        return False\n",
    "\n",
    "#check for win or tie\n",
    "def checkHorizontle(board):\n",
    "    global winner                                                #this is done so that it can update winner if its a winner and stop the loop\n",
    "    if board[0] == board[1] == board[2] and board[1] != \" \":     #here it check if they are the same, but not if there is \" \" beacause then it would end at the start\n",
    "        winner = board[0]                                        #here it finds the winner\n",
    "        return True\n",
    "    elif board[3] == board[4] == board[5] and board[3] != \" \":\n",
    "        winner = board[3]\n",
    "        return True\n",
    "    elif board[6] == board[7] == board[8] and board[6] != \" \":\n",
    "        winner = board[6]\n",
    "        return True\n",
    "\n",
    "def checkRow(board):\n",
    "    global winner\n",
    "    if board[0] == board[3] == board[6] and board[0] != \" \":\n",
    "        winner = board[0]\n",
    "        return True\n",
    "    elif board[1] == board[4] == board[7] and board[1] != \" \":\n",
    "        winner = board[1]\n",
    "        return True\n",
    "    elif board[2] == board[5] == board[8] and board[2] != \" \":\n",
    "        winner = board[2]\n",
    "        return True\n",
    "\n",
    "def checkDiag(board):\n",
    "    global winner\n",
    "    if board[0] == board[4] == board[8] and board[0] != \" \":\n",
    "        winner = board[0]\n",
    "        return True\n",
    "    elif board[2] == board[4] == board[6] and board[2] != \" \":\n",
    "        winner = board[2]\n",
    "        return True\n",
    "\n",
    "def checkTie(board):\n",
    "    if \" \" not in board:             #here it will check if there are more places to place the X or O, if not its a tie \n",
    "        printBoard(board)\n",
    "        print(\"It is a tie!\")\n",
    "        global gameRunning\n",
    "        gameRunning = False        #here it ends the game \n",
    "\n",
    "def checkWin():\n",
    "    if checkDiag(board) or checkHorizontle(board) or checkRow(board):   #check if there is a win\n",
    "        printBoard(board)\n",
    "        print(f\"The winner is {winner}\")\n",
    "        global gameRunning\n",
    "        gameRunning = False     \n",
    "\n",
    "\n",
    "#switch the player\n",
    "def switchPlayer():\n",
    "    global currentPlayer\n",
    "    if currentPlayer == \"X\":                 #here it switch the player, cause if the player is X i will become O, and if the player is not X it will become X\n",
    "        currentPlayer = \"O\"\n",
    "    else:\n",
    "        currentPlayer = \"X\"\n",
    "\n",
    "#(its just random)\n",
    "#can make it check if it going to win or if the athoter player is going to win\n",
    "#you it will go for win if it can, and block if it should\n",
    "def computer(board):\n",
    "    while currentPlayer == \"O\":\n",
    "        position = random.randint(0, 8)\n",
    "        if board[position] == \" \":\n",
    "            board[position] = \"O\"\n",
    "            switchPlayer()\n",
    "\n",
    "# Main game loop\n",
    "def main():\n",
    "    while gameRunning:\n",
    "        printBoard(board)\n",
    "        if playerInput(board):  # Only switch if player made a valid move\n",
    "            checkWin()\n",
    "            checkTie(board)\n",
    "            switchPlayer() \n",
    "                                #if you want to play vs random \n",
    "            #computer(board)\n",
    "            #checkWin()\n",
    "            #checkTie(board)\n",
    "\n",
    "\n",
    "\n",
    "if __name__ == \"__main__\": \n",
    "    main()"
   ]
  },
  {
   "cell_type": "code",
   "execution_count": null,
   "id": "443f67a0-f00b-4696-b2bb-ddfdf9d2c4cf",
   "metadata": {},
   "outputs": [],
   "source": []
  }
 ],
 "metadata": {
  "kernelspec": {
   "display_name": "Python 3 (ipykernel)",
   "language": "python",
   "name": "python3"
  },
  "language_info": {
   "codemirror_mode": {
    "name": "ipython",
    "version": 3
   },
   "file_extension": ".py",
   "mimetype": "text/x-python",
   "name": "python",
   "nbconvert_exporter": "python",
   "pygments_lexer": "ipython3",
   "version": "3.12.4"
  }
 },
 "nbformat": 4,
 "nbformat_minor": 5
}
