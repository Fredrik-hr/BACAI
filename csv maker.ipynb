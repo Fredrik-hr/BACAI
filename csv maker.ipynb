{
 "cells": [
  {
   "cell_type": "code",
   "execution_count": 72,
   "id": "bc4f9486-7daf-4644-bc3b-6138dbc9eba1",
   "metadata": {},
   "outputs": [
    {
     "name": "stdin",
     "output_type": "stream",
     "text": [
      "What's your username?  user1\n",
      "What's your password?  pass2\n",
      "Are you admin? no\n"
     ]
    }
   ],
   "source": [
    "username = input(\"What's your username? \")\n",
    "password = input(\"What's your password? \")\n",
    "admin = input(\"Are you admin?\" ) \n",
    "\n",
    "\n",
    "with open(\"test.csv\", \"a\") as file: \n",
    "    file.write(f\"{username}, {password}, {admin}\\n\")"
   ]
  },
  {
   "cell_type": "code",
   "execution_count": null,
   "id": "78666659-3b34-4de4-a3c0-bc60bd41e739",
   "metadata": {},
   "outputs": [],
   "source": []
  }
 ],
 "metadata": {
  "kernelspec": {
   "display_name": "Python 3 (ipykernel)",
   "language": "python",
   "name": "python3"
  },
  "language_info": {
   "codemirror_mode": {
    "name": "ipython",
    "version": 3
   },
   "file_extension": ".py",
   "mimetype": "text/x-python",
   "name": "python",
   "nbconvert_exporter": "python",
   "pygments_lexer": "ipython3",
   "version": "3.12.4"
  }
 },
 "nbformat": 4,
 "nbformat_minor": 5
}
